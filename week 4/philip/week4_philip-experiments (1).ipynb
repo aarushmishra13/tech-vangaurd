{
  "nbformat": 4,
  "nbformat_minor": 0,
  "metadata": {
    "colab": {
      "provenance": [],
      "gpuType": "T4"
    },
    "kernelspec": {
      "name": "python3",
      "display_name": "Python 3"
    },
    "language_info": {
      "name": "python"
    },
    "accelerator": "GPU"
  },
  "cells": [
    {
      "cell_type": "markdown",
      "metadata": {
        "id": "view-in-github"
      },
      "source": [
        "<a href=\"https://colab.research.google.com/gist/yatochka-dev/0d27f9849c5f90646af325fd77fd9452/week4-philip.ipynb\" target=\"_parent\"><img src=\"https://colab.research.google.com/assets/colab-badge.svg\" alt=\"Open In Colab\"/></a>"
      ]
    },
    {
      "cell_type": "code",
      "execution_count": null,
      "metadata": {
        "id": "edjAre5wGkHy"
      },
      "outputs": [],
      "source": [
        "!pip install ultralytics\n",
        "from ultralytics import YOLO\n"
      ]
    },
    {
      "cell_type": "code",
      "source": [
        "!unzip ./out_dataset.zip -d .\n"
      ],
      "metadata": {
        "collapsed": true,
        "id": "pPxruvISHG5o"
      },
      "execution_count": null,
      "outputs": []
    },
    {
      "cell_type": "code",
      "source": [
        "yaml_content = \"\"\"\n",
        "path: out_dataset\n",
        "train: images/train\n",
        "val: images/val\n",
        "\n",
        "names:\n",
        "  0: B2\n",
        "  1: B52\n",
        "  2: C17\n",
        "  3: C130\n",
        "\"\"\"\n",
        "\n",
        "with open(\"data.yaml\", \"w\") as f:\n",
        "    f.write(yaml_content)\n",
        "\n",
        "# Im too lazy to upload an actual file from my pc"
      ],
      "metadata": {
        "id": "wMcCs317Ip4m"
      },
      "execution_count": null,
      "outputs": []
    },
    {
      "cell_type": "markdown",
      "source": [
        "Starting training, experiment #1: Model Size\n",
        "\n"
      ],
      "metadata": {
        "id": "7DM5PxbXJ_RO"
      }
    },
    {
      "cell_type": "code",
      "source": [
        "# 1. YOLOv8 Nano\n",
        "!yolo detect train data=data.yaml model=yolov8n.pt epochs=10 imgsz=640 name=model_n"
      ],
      "metadata": {
        "id": "PbhEPyBlKDUY"
      },
      "execution_count": null,
      "outputs": []
    },
    {
      "cell_type": "code",
      "source": [
        "# 2. YOLOv8 Small\n",
        "!yolo detect train data=data.yaml model=yolov8s.pt epochs=10 imgsz=640 name=model_s"
      ],
      "metadata": {
        "id": "CRcOYvyBOPl5"
      },
      "execution_count": null,
      "outputs": []
    },
    {
      "cell_type": "code",
      "source": [
        "# 3. YOLOv8 Medium\n",
        "!yolo detect train data=data.yaml model=yolov8m.pt epochs=10 imgsz=640 name=model_m"
      ],
      "metadata": {
        "id": "TmZroBM9OVKm",
        "collapsed": true
      },
      "execution_count": null,
      "outputs": []
    },
    {
      "cell_type": "markdown",
      "source": [
        "Continuing training, experiment #2: Learning Rate"
      ],
      "metadata": {
        "id": "OpiT8gnDOvVa"
      }
    },
    {
      "cell_type": "code",
      "source": [
        "# 1. Learning rate - 0.001\n",
        "!yolo detect train data=data.yaml model=yolov8n.pt epochs=10 imgsz=640 lr0=0.001 name=lr_001"
      ],
      "metadata": {
        "id": "qlncMRehO-Ns",
        "collapsed": true
      },
      "execution_count": null,
      "outputs": []
    },
    {
      "cell_type": "code",
      "source": [
        "# 2. Learning rate - 0.005\n",
        "!yolo detect train data=data.yaml model=yolov8n.pt epochs=10 imgsz=640 lr0=0.005 name=lr_005"
      ],
      "metadata": {
        "id": "VYyjLymfO-e6",
        "collapsed": true
      },
      "execution_count": null,
      "outputs": []
    },
    {
      "cell_type": "code",
      "source": [
        "# 3. Learning rate - 0.01\n",
        "!yolo detect train data=data.yaml model=yolov8n.pt epochs=10 imgsz=640 lr0=0.01 name=lr_01"
      ],
      "metadata": {
        "id": "xUjbfiFoO-we",
        "collapsed": true
      },
      "execution_count": null,
      "outputs": []
    },
    {
      "cell_type": "markdown",
      "source": [
        "Final training round, experiment #3: Image Size"
      ],
      "metadata": {
        "id": "zBIIFhWRP-xv"
      }
    },
    {
      "cell_type": "code",
      "source": [
        "# 1. Image Size: 416\n",
        "!yolo detect train data=data.yaml model=yolov8n.pt epochs=10 imgsz=416 name=imgsz_416"
      ],
      "metadata": {
        "id": "exJPKypGQHnF",
        "collapsed": true
      },
      "execution_count": null,
      "outputs": []
    },
    {
      "cell_type": "code",
      "source": [
        "# 2. Image Size: 640\n",
        "!yolo detect train data=data.yaml model=yolov8n.pt epochs=10 imgsz=640 name=imgsz_640"
      ],
      "metadata": {
        "id": "V3xSOXvWQH0Y"
      },
      "execution_count": null,
      "outputs": []
    },
    {
      "cell_type": "code",
      "source": [
        "# 3. Image Size: 1024\n",
        "!yolo detect train data=data.yaml model=yolov8n.pt epochs=10 imgsz=1024 name=imgsz_1024"
      ],
      "metadata": {
        "id": "13l4vbG2QIEi"
      },
      "execution_count": null,
      "outputs": []
    },
    {
      "cell_type": "code",
      "source": [
        "import pandas as pd\n",
        "import matplotlib.pyplot as plt\n",
        "import seaborn as sns\n",
        "from pathlib import Path\n",
        "\n",
        "# Setup\n",
        "sns.set(style=\"whitegrid\")\n",
        "plt.figure(figsize=(10, 6))\n",
        "\n",
        "# Your model size experiment names\n",
        "experiments = [\n",
        "    # (\"model_n\", \"YOLOv8n\"),\n",
        "    # (\"model_s\", \"YOLOv8s\"),\n",
        "    # (\"model_m\", \"YOLOv8m\"),\n",
        "    # (\"lr_001\", \"LR=0.001\"),\n",
        "        # (\"lr_005\", \"LR=0.005\"),\n",
        "        # (\"lr_01\", \"LR=0.01\"),\n",
        "    (\"imgsz_416\", \"Img Size 416\"),\n",
        "        (\"imgsz_640\", \"Img Size 640\"),\n",
        "        (\"imgsz_1024\", \"Img Size 1024\")\n",
        "]\n",
        "\n",
        "# Plot\n",
        "for exp_name, label in experiments:\n",
        "    path = Path(f\"runs/detect/{exp_name}/results.csv\")\n",
        "    if not path.exists():\n",
        "        print(f\"Skipping {exp_name}: results.csv not found.\")\n",
        "        continue\n",
        "\n",
        "    df = pd.read_csv(path)\n",
        "    epochs = df[\"epoch\"]\n",
        "    mAP50 = df[\"metrics/mAP50(B)\"]\n",
        "\n",
        "    plt.plot(epochs, mAP50, marker='o', label=f\"{label} (final: {mAP50.iloc[-1]:.3f})\")\n",
        "\n",
        "# Final touches\n",
        "plt.title(\"Image size comparison – mAP@0.5 Over Epochs\", fontsize=16)\n",
        "plt.xlabel(\"Epoch\", fontsize=12)\n",
        "plt.ylabel(\"mAP@0.5\", fontsize=12)\n",
        "plt.xticks(epochs)\n",
        "plt.legend(title=\"Model\", loc=\"lower right\")\n",
        "plt.tight_layout()\n",
        "plt.savefig(\"model_comparison_map50.png\", dpi=300)\n",
        "plt.show()\n"
      ],
      "metadata": {
        "id": "iN64Vzkpn_4b"
      },
      "execution_count": null,
      "outputs": []
    },
    {
      "cell_type": "code",
      "source": [
        "import pandas as pd\n",
        "from pathlib import Path\n",
        "\n",
        "base_dir = Path(\"runs/detect\")\n",
        "experiments = sorted([d for d in base_dir.iterdir() if d.is_dir()])\n",
        "summary = []\n",
        "\n",
        "for exp in experiments:\n",
        "    results_path = exp / \"results.csv\"\n",
        "    if not results_path.exists():\n",
        "        continue\n",
        "\n",
        "    df = pd.read_csv(results_path)\n",
        "    last_row = df.iloc[-1]  # get last epoch\n",
        "    mAP50 = last_row.get(\"metrics/mAP50(B)\", None)\n",
        "    mAP50_95 = last_row.get(\"metrics/mAP50-95(B)\", None)\n",
        "    precision = last_row.get(\"metrics/precision(B)\", None)\n",
        "    recall = last_row.get(\"metrics/recall(B)\", None)\n",
        "    name = exp.name\n",
        "\n",
        "    summary.append({\n",
        "        \"Experiment\": name,\n",
        "        \"mAP@0.5\": round(mAP50, 3) if pd.notnull(mAP50) else \"N/A\",\n",
        "        \"mAP@0.5:0.95\": round(mAP50_95, 3) if pd.notnull(mAP50_95) else \"N/A\",\n",
        "        \"Precision\": round(precision, 3) if pd.notnull(precision) else \"N/A\",\n",
        "        \"Recall\": round(recall, 3) if pd.notnull(recall) else \"N/A\"\n",
        "    })\n",
        "\n",
        "# Display results\n",
        "df_summary = pd.DataFrame(summary)\n",
        "print(\"📊 Experiment Summary:\")\n",
        "print(df_summary.to_string(index=False))\n",
        "\n",
        "# Optional: save to CSV\n",
        "df_summary.to_csv(\"experiment_summary.csv\", index=False)\n"
      ],
      "metadata": {
        "id": "aRaReFOS4z3B"
      },
      "execution_count": null,
      "outputs": []
    }
  ]
}