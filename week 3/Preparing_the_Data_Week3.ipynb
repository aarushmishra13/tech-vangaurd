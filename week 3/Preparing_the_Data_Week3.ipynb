{
  "nbformat": 4,
  "nbformat_minor": 0,
  "metadata": {
    "colab": {
      "provenance": [],
      "toc_visible": true
    },
    "kernelspec": {
      "name": "python3",
      "display_name": "Python 3"
    },
    "language_info": {
      "name": "python"
    }
  },
  "cells": [
    {
      "cell_type": "markdown",
      "source": [
        "# HUVTSP - VANGUARD DEFENSE INTERNSHIP - WEEK 3"
      ],
      "metadata": {
        "id": "KCBL2NzM2-VW"
      }
    },
    {
      "cell_type": "markdown",
      "source": [
        "## Install Dependencies"
      ],
      "metadata": {
        "id": "B325org63HP7"
      }
    },
    {
      "cell_type": "code",
      "execution_count": null,
      "metadata": {
        "id": "9y47Nwh42jIB"
      },
      "outputs": [],
      "source": [
        "import kagglehub\n",
        "import os\n",
        "import shutil\n",
        "!pip install split-folders -q\n",
        "import splitfolders"
      ]
    },
    {
      "cell_type": "code",
      "source": [
        "# Download latest version\n",
        "path = kagglehub.dataset_download(\"a2015003713/militaryaircraftdetectiondataset\")\n",
        "\n",
        "print(\"Path to dataset files:\", path)"
      ],
      "metadata": {
        "id": "DLWUeyv22rMl"
      },
      "execution_count": null,
      "outputs": []
    },
    {
      "cell_type": "markdown",
      "source": [
        "## Filtering Selected Aircraft Types"
      ],
      "metadata": {
        "id": "jpmsPDuu3MO-"
      }
    },
    {
      "cell_type": "code",
      "source": [
        "source_dir = f'{path}/crop/'\n",
        "destination_dir = '/content/dataset/'\n",
        "subfolders_to_copy = ['F15', 'F16', 'F18', 'F22', 'F35', 'B1', 'B2', 'C17', 'C130']\n",
        "\n",
        "# Create the destination directory if it doesn't exist\n",
        "os.makedirs(destination_dir, exist_ok=True)\n",
        "\n",
        "# Copy each specified subfolder\n",
        "for folder in subfolders_to_copy:\n",
        "    source_path = os.path.join(source_dir, folder)\n",
        "    destination_path = os.path.join(destination_dir, folder)\n",
        "    if os.path.exists(source_path):\n",
        "        shutil.copytree(source_path, destination_path)\n",
        "        print(f\"Copied {folder} to {destination_dir}\")\n",
        "    else:\n",
        "        print(f\"Source folder {folder} not found in {source_dir}\")\n",
        "        raise FileNotFoundError\n",
        "\n",
        "print(\"Copying complete.\")"
      ],
      "metadata": {
        "id": "mU1f00kG2s_-"
      },
      "execution_count": null,
      "outputs": []
    },
    {
      "cell_type": "markdown",
      "source": [
        "## Automaticall Labeling Aircrafts"
      ],
      "metadata": {
        "id": "dY5nmnEt3d2u"
      }
    },
    {
      "cell_type": "code",
      "source": [
        "aircrafts = [\"F15\", \"F16\", \"F18\", \"F22\", \"F35\", \"B1\", \"B2\", \"C17\", \"C130\"]\n",
        "image_extensions = {\".jpg\", \".jpeg\", \".png\", \".bmp\", \".webp\"}\n",
        "\n",
        "for i, aircraft in enumerate(aircrafts):\n",
        "\n",
        "  image_directory = f\"/content/dataset/{aircraft}\"\n",
        "  label_directory = \"/content/dataset/labels\"\n",
        "  CLASS_ID = i\n",
        "\n",
        "  os.makedirs(label_directory, exist_ok=True)\n",
        "\n",
        "  yolo_label_content = f\"{CLASS_ID} 0.5 0.5 1.0 1.0\"\n",
        "\n",
        "  print(f\"▶️ Reading images from: {image_directory}\")\n",
        "  print(\"-\" * 30)\n",
        "\n",
        "  if not os.path.isdir(image_directory):\n",
        "      continue\n",
        "  else:\n",
        "      for filename in os.listdir(image_directory):\n",
        "          if os.path.splitext(filename)[1].lower() in image_extensions:\n",
        "              label_filename = os.path.splitext(filename)[0] + \".txt\"\n",
        "              label_filepath = os.path.join(label_directory, label_filename)\n",
        "              try:\n",
        "                  with open(label_filepath, 'w') as f:\n",
        "                      f.write(yolo_label_content)\n",
        "              except IOError as e:\n",
        "                  print(f\"❌ Error creating label for {filename}: {e}\")"
      ],
      "metadata": {
        "id": "HGrPHcSx2uuN"
      },
      "execution_count": null,
      "outputs": []
    },
    {
      "cell_type": "markdown",
      "source": [
        "## Collect All Images in One Directory"
      ],
      "metadata": {
        "id": "Gzjd7XGb3lCN"
      }
    },
    {
      "cell_type": "code",
      "source": [
        "all_images_destination_dir = '/content/dataset/images/'\n",
        "os.makedirs(all_images_destination_dir, exist_ok=True)\n",
        "\n",
        "\n",
        "print(\"Starting image transfer to a single folder...\")\n",
        "for aircraft in aircrafts:\n",
        "    source_image_directory = f\"/content/dataset/{aircraft}\"\n",
        "    print(f\"Processing images from: {source_image_directory}\")\n",
        "    if os.path.isdir(source_image_directory):\n",
        "        for filename in os.listdir(source_image_directory):\n",
        "            if os.path.splitext(filename)[1].lower() in image_extensions:\n",
        "                source_filepath = os.path.join(source_image_directory, filename)\n",
        "                destination_filepath = os.path.join(all_images_destination_dir, filename)\n",
        "                try:\n",
        "                    shutil.move(source_filepath, destination_filepath)\n",
        "                except IOError as e:\n",
        "                    print(f\"❌ Error moving {filename}: {e}\")\n",
        "    else:\n",
        "        print(f\"Source directory not found: {source_image_directory}\")\n",
        "\n",
        "print(\"Image transfer complete.\")"
      ],
      "metadata": {
        "id": "UbeAu8q22zLt"
      },
      "execution_count": null,
      "outputs": []
    },
    {
      "cell_type": "markdown",
      "source": [
        "## Delete Old Folders"
      ],
      "metadata": {
        "id": "KCXKwFiL3oXO"
      }
    },
    {
      "cell_type": "code",
      "source": [
        "for aircraft in aircrafts:\n",
        "    folder_path = f\"/content/dataset/{aircraft}\"\n",
        "    if os.path.exists(folder_path) and os.path.isdir(folder_path):\n",
        "        shutil.rmtree(folder_path)\n",
        "        print(f\"Deleted folder: {folder_path}\")\n",
        "    else:\n",
        "        print(f\"Folder not found or not a directory: {folder_path}\")"
      ],
      "metadata": {
        "id": "v5Ro-zsP209d"
      },
      "execution_count": null,
      "outputs": []
    },
    {
      "cell_type": "markdown",
      "source": [
        "## Train - Validation Split"
      ],
      "metadata": {
        "id": "LR7qtmKm3rgm"
      }
    },
    {
      "cell_type": "code",
      "source": [
        "input_folder = '/content/dataset/'\n",
        "\n",
        "output_folder = '/content/split/'\n",
        "\n",
        "splitfolders.ratio(input_folder,\n",
        "                   output=output_folder,\n",
        "                   seed=42,\n",
        "                   ratio=(.8, .2),\n",
        "                   group_prefix=None,\n",
        "                   move=False) # Set to True to move files instead of copying\n",
        "\n",
        "print(\"Dataset splitting complete!\")"
      ],
      "metadata": {
        "id": "HYQYHmn_22dO"
      },
      "execution_count": null,
      "outputs": []
    },
    {
      "cell_type": "markdown",
      "source": [
        "## dataset.yaml File"
      ],
      "metadata": {
        "id": "Wk0aOJe232L-"
      }
    },
    {
      "cell_type": "markdown",
      "source": [
        "Create this dataset.yaml - content:\n",
        "\n",
        "train: /content/split/train/images\n",
        "\n",
        "val: /content/split/val/images\n",
        "\n",
        "nc: 9\n",
        "\n",
        "names: [\"F15\", \"F16\", \"F18\", \"F22\", \"F35\", \"B1\", \"B2\", \"C17\", \"C130\"]"
      ],
      "metadata": {
        "id": "q9eV8PGV249P"
      }
    }
  ]
}